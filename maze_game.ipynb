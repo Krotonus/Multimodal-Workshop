{
  "cells": [
    {
      "cell_type": "markdown",
      "metadata": {
        "id": "view-in-github",
        "colab_type": "text"
      },
      "source": [
        "<a href=\"https://colab.research.google.com/github/Krotonus/Multimodal-Workshop/blob/main/maze_game.ipynb\" target=\"_parent\"><img src=\"https://colab.research.google.com/assets/colab-badge.svg\" alt=\"Open In Colab\"/></a>"
      ]
    },
    {
      "cell_type": "markdown",
      "source": [
        "# GPTWorld Golf\n",
        "\n",
        "The goal of this exercise is to write a prompt that can solve the movement of an AI in a grid world using prompting. You need to avoid walls, pick up a key, and then reach the goal.\n",
        "\n",
        "You will need to use use OpenAI Key to run the exercise. You can get it here:\n",
        "\n",
        "https://platform.openai.com/account/api-keys"
      ],
      "metadata": {
        "id": "jcICcfZw7KTt"
      }
    },
    {
      "cell_type": "code",
      "source": [
        "from google.colab import userdata\n",
        "ai_key = userdata.get('GOOGLE_API_KEY')\n",
        "\n",
        "MODEL_NAME = \"gemini-2.0-flash\""
      ],
      "metadata": {
        "id": "OxdK7rk46MfM"
      },
      "execution_count": null,
      "outputs": []
    },
    {
      "cell_type": "code",
      "execution_count": null,
      "metadata": {
        "id": "gKzCE5A7aGWY",
        "cellView": "form"
      },
      "outputs": [],
      "source": [
        "#@title Install (collapse me)\n",
        "%%capture\n",
        "!sudo apt-get install libcairo2-dev\n",
        "!pip install -U git+https://github.com/chalk-diagrams/chalk openai pycairo tiktoken"
      ]
    },
    {
      "cell_type": "markdown",
      "source": [
        "This cell can be ignored. It just imports the necessary libraries and sets up a prompt call.\n"
      ],
      "metadata": {
        "id": "lCZ-Wfkn7x0C"
      }
    },
    {
      "cell_type": "code",
      "execution_count": null,
      "metadata": {
        "id": "RWUExPo7Y8-O"
      },
      "outputs": [],
      "source": [
        "#@title Import (collapse me)\n",
        "from dataclasses import dataclass\n",
        "from chalk import *\n",
        "from colour import Color\n",
        "import inspect\n",
        "import os\n",
        "import openai\n",
        "from typing import List, Tuple, Optional\n",
        "from enum import Enum\n",
        "import io\n",
        "from IPython.display import Image\n",
        "from contextlib import redirect_stdout\n",
        "import imageio\n",
        "import tiktoken\n",
        "tab = \"    \"\n",
        "\n",
        "client = openai.OpenAI(api_key=ai_key, base_url='https://generativelanguage.googleapis.com/v1beta/openai/')\n",
        "\n",
        "def start(prompt):\n",
        "    out = \"\"\n",
        "    for chunk in client.chat.completions.create(\n",
        "        model= MODEL_NAME,\n",
        "        messages=[{\n",
        "            \"role\": \"user\",\n",
        "            \"content\": prompt,\n",
        "\n",
        "        }],\n",
        "        stream=True,\n",
        "        temperature= 0\n",
        "    ):\n",
        "        content = chunk.choices[0].delta.content\n",
        "        if content is not None:\n",
        "            out += content\n",
        "            print(content, end=\"\")\n",
        "            yield out\n",
        "    yield out\n",
        "\n",
        "def num_tokens_from_string(string: str, encoding_name: str=\"gpt-4\") -> int:\n",
        "    \"\"\"Returns the number of tokens in a text string.\"\"\"\n",
        "    encoding = tiktoken.encoding_for_model(encoding_name)\n",
        "    num_tokens = len(encoding.encode(string))\n",
        "    return num_tokens"
      ]
    },
    {
      "cell_type": "markdown",
      "source": [
        "## Game Code\n",
        "\n",
        "This code creates a mini-game to play. It takes place on a hexagon. You are represented by a circle. You need to first pick up a key represented by a triangle. You finally need to make it to the cross to finish the game. The actions show each of the directions you can move.\n",
        "\n"
      ],
      "metadata": {
        "id": "LMTjwXdD7v-I"
      }
    },
    {
      "cell_type": "markdown",
      "source": [
        "![image.png](data:image/png;base64,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)"
      ],
      "metadata": {
        "id": "YxeLc-oD8Y7V"
      }
    },
    {
      "cell_type": "code",
      "execution_count": null,
      "metadata": {
        "id": "Fv3eTRKiV2ZB",
        "cellView": "form"
      },
      "outputs": [],
      "source": [
        "#@title Game Code\n",
        "\n",
        "# Possible Actions\n",
        "class Actions(Enum):\n",
        "    UPRIGHT = \"UR\"\n",
        "    RIGHT = \"R\"\n",
        "    DOWNRIGHT = \"DR\"\n",
        "    DOWNLEFT = \"DL\"\n",
        "    LEFT = \"L\"\n",
        "    UPLEFT = \"UL\"\n",
        "    PICKUP = \"Pickup\"\n",
        "\n",
        "# Movements\n",
        "change = {\n",
        "    Actions.UPRIGHT : (-1, 1),\n",
        "    Actions.RIGHT : (0, 2),\n",
        "    Actions.DOWNRIGHT : (1, 1),\n",
        "    Actions.DOWNLEFT : (1, -1),\n",
        "    Actions.LEFT : (0, -2),\n",
        "    Actions.UPLEFT : (-1, -1),\n",
        "    Actions.PICKUP : (0, 0),\n",
        "}\n",
        "change_str = {action.value: change[action] for action in Actions}\n",
        "def add(a, b):\n",
        "    return a[0] + b[0], a[1] + b[1]\n",
        "\n",
        "@dataclass\n",
        "class Board:\n",
        "    grid: List[str]\n",
        "    player_pos: Tuple[int, int]\n",
        "    flag_pos: Tuple[int, int]\n",
        "    wall_pos:List[Tuple[int, int]]\n",
        "    key_pos:Optional[Tuple[int, int]]\n",
        "\n",
        "    def move(self, action: Actions) -> 'Board':\n",
        "        \"Move by creating a new board.\"\n",
        "        d_m = change[action]\n",
        "        if action == Actions.PICKUP:\n",
        "            if self.player_pos == self.key_pos:\n",
        "                return Board(self.grid, self.player_pos, self.flag_pos, self.wall_pos, None)\n",
        "            else:\n",
        "                return self\n",
        "\n",
        "        new_player_pos = add(self.player_pos, d_m)\n",
        "        # Out of bounds\n",
        "        if new_player_pos[0] < 0 or new_player_pos[0] >= len(self.grid):\n",
        "            return self\n",
        "        if new_player_pos[1] < 0 or new_player_pos[1] >= len(self.grid[0]):\n",
        "            return self\n",
        "        # Can't move through walls\n",
        "        if self.grid[new_player_pos[0]][new_player_pos[1]] == 'W':\n",
        "            return self\n",
        "\n",
        "        new_grid = [row[:] for row in self.grid] # Create a copy of the grid\n",
        "        new_grid[self.player_pos[0]][self.player_pos[1]] = '.'\n",
        "        new_grid[new_player_pos[0]][new_player_pos[1]] = '@'\n",
        "        return Board(new_grid, new_player_pos, self.flag_pos, self.wall_pos, self.key_pos)\n",
        "\n",
        "    def __str__(self) -> str:\n",
        "        return '\\n'.join(''.join(row) for i, row in enumerate(self.grid))\n",
        "\n",
        "    @classmethod\n",
        "    def create_empty_board(cls, size: Tuple[int, int], key_pos, flag_pos, init, wall_pos) -> 'Board':\n",
        "        grid = [['.' if i % 2 == j % 2  else \" \" for i in range(size[1])] for j in range(size[0])]\n",
        "        player_pos = init\n",
        "        flag_pos = flag_pos\n",
        "        grid[player_pos[0]][player_pos[1]] = '@'\n",
        "        grid[flag_pos[0]][flag_pos[1]] = 'P'\n",
        "        grid[key_pos[0]][key_pos[1]] = 'K'\n",
        "        for pos in wall_pos:\n",
        "            grid[pos[0]][pos[1]] = 'W'\n",
        "        return cls(grid, player_pos, flag_pos, wall_pos, key_pos)\n",
        "\n",
        "class Game:\n",
        "    def __init__(self, init, flag, walls, key, boundary):\n",
        "        \"Create the version of the game that the AI sees.\"\n",
        "        self.boundary = boundary\n",
        "        self.board = Board.create_empty_board(boundary, key, flag, init, walls)\n",
        "        self.original = self.board\n",
        "        self.actions = []\n",
        "\n",
        "    def move(self, action):\n",
        "        self.board = self.board.move(action)\n",
        "        self.actions.append(action)\n",
        "\n",
        "    @property\n",
        "    def walls(self):\n",
        "        return self.board.wall_pos\n",
        "\n",
        "    def __repr__(self) -> str:\n",
        "        walls = \",\".join(map(str, self.board.wall_pos))\n",
        "        return f\"Game(init={self.board.player_pos}, flag={self.board.flag_pos}, walls= {self.board.wall_pos}, boundary= {self.boundary}, key= {self.board.key_pos})\"\n",
        "\n",
        "# This is the version of move that the AI can see.\n",
        "def move(game, action, old_pos):\n",
        "    # ACTIONS (must be legal)\n",
        "    game.move(Actions(action))\n",
        "    offset = change_str[action]\n",
        "    pos = (old_pos[0] + offset[0], old_pos[1] + offset[1])\n",
        "    assert 0 <= pos[0] < game.boundary[0]\n",
        "    assert 0 <= pos[1] < game.boundary[1]\n",
        "    assert pos not in game.walls\n",
        "    if action == \"PU\":\n",
        "        assert pos == game.key\n",
        "    return pos"
      ]
    },
    {
      "cell_type": "markdown",
      "source": [
        "We can look at the board by drawing it."
      ],
      "metadata": {
        "id": "PDOcPiQq8u_Y"
      }
    },
    {
      "cell_type": "code",
      "source": [
        "#@title Drawing code\n",
        "def draw_board(grid, num=0):\n",
        "    hex = regular_polygon(6, 1).rotate_by(1/12).line_width(0.5).fill_color(Color(\"white\"))\n",
        "    w = hex.get_envelope().width\n",
        "    canvas = empty()\n",
        "    for r, b in enumerate(grid):\n",
        "        def show(v):\n",
        "            if v == \".\":\n",
        "                return hex\n",
        "            if v == \"@\":\n",
        "                return hex + circle(0.35).fill_color(Color(\"red\"))\n",
        "            if v == \"P\":\n",
        "                x = rectangle(0.25, 0.7).fill_color(Color(\"blue\")).line_width(0)\n",
        "                return hex + (x.rotate_by(0.25/2) + x.rotate_by(-0.25/2))\n",
        "            if v == \"K\":\n",
        "                return hex + triangle(0.75).fill_color(Color(\"purple\"))\n",
        "            if v == \"W\":\n",
        "                return hex.fill_color(Color(\"black\"))\n",
        "            if v ==\" \":\n",
        "                return hex\n",
        "        row = hcat(show(v) for i, v in enumerate(b[1 if r %2 else 0::2]))\n",
        "        canvas += row.translate(w * 0.5 if r%2 else 0, 1.5 * r)\n",
        "    canvas = canvas.center_xy().frame(0.5)\n",
        "    canvas = rectangle(canvas.get_envelope().width, canvas.get_envelope().height).line_width(0.5).fill_color(Color(\"orange\")) + canvas\n",
        "    canvas.render(f\"pic{num}.png\", 256)\n",
        "    return canvas\n",
        "\n"
      ],
      "metadata": {
        "id": "Ic7WgOTi8uF1",
        "cellView": "form"
      },
      "execution_count": null,
      "outputs": []
    },
    {
      "cell_type": "code",
      "source": [
        "game = Game(boundary=(5, 5), key=(0, 2), flag=(4, 4), init=(0, 0), walls=[(2, 2)])\n",
        "display(draw_board(game.board.grid))\n",
        "move(game, \"DR\", (0,0))\n",
        "display(draw_board(game.board.grid))"
      ],
      "metadata": {
        "id": "nqgPKLu0AMhU"
      },
      "execution_count": null,
      "outputs": []
    },
    {
      "cell_type": "markdown",
      "source": [
        "## Prompt Code\n",
        "\n",
        "The puzzle is to write prompt code to make the model accomplish this task. We have provided some scaffolding code for you. The code creates:\n",
        "\n",
        "* A header for describing the game.\n",
        "* A function `make_fun` that shows the AI how to move in code.\n",
        "* A footer to describe the final game board that you want the mode to solve.\n",
        "\n",
        "You can fill this in a watch how the model moves around."
      ],
      "metadata": {
        "id": "PhqF9af5_jvh"
      }
    },
    {
      "cell_type": "code",
      "execution_count": null,
      "metadata": {
        "id": "jFf7TCOJaVHX"
      },
      "outputs": [],
      "source": [
        "#@title Make the Prompt\n",
        "def make_fun(board, actions):\n",
        "    \"This function generates python code for few-shot examples\"\n",
        "    out = tab + \"p = \" + str(board.player_pos)\n",
        "    for i, action in enumerate(actions):\n",
        "        new_board = board.move(action)\n",
        "        out += f\"\"\"\n",
        "        # print(new_board) <- uncomment if you want to see the movement.\n",
        "    # TODO ADD CODE\n",
        "    p = move(b, \"{action.value}\", p) # TODO ADD CODE\"\"\"\n",
        "        board = new_board\n",
        "    return out\n",
        "\n",
        "ex = 0\n",
        "def prompt(game):\n",
        "    \"\"\"\n",
        "    You should fill these sections out to teach the AI how to play the game.\n",
        "\n",
        "    Or you may do your own thing :)\n",
        "    \"\"\"\n",
        "    print(f\"\"\"\n",
        "# TODO: DESCRIBE THE GAME\n",
        "\n",
        "# TODO: DESCRIBE THE ACTIONS\n",
        "change_str = {change_str}\n",
        "\n",
        "{inspect.getsource(move)}\n",
        "\"\"\")\n",
        "\n",
        "    def example(game, actions):\n",
        "        \"\"\"\n",
        "        This code makes a few shot example. You don't need to edit it.\n",
        "        \"\"\"\n",
        "        global ex\n",
        "        ex += 1\n",
        "        print(f\"\"\"\n",
        "#-------------\n",
        "# EXAMPLE:\n",
        "def example{ex}():\n",
        "    b = {repr(game)}\n",
        "{make_fun(game.board, actions)}\n",
        "    return b\n",
        "# ------------\n",
        "\"\"\")\n",
        "\n",
        "    # Create a few shot example (you may not need this)\n",
        "    board = Game(boundary=(3, 3), key=(1, 1), flag=(2, 2), init=(0, 0), walls=[(2, 0)])\n",
        "    actions = [Actions.DOWNRIGHT, Actions.PICKUP, Actions.DOWNRIGHT]\n",
        "    example(board, actions)\n",
        "\n",
        "    # Test case\n",
        "    print(f\"\"\"\n",
        "# ----\n",
        "# TODO: ADD any custom example code\n",
        "#---\n",
        "# TODO: FINAL description.\n",
        "\n",
        "# Contraints for this function:\", {repr(game)}\n",
        "# Please fill this in with code like the examples above (do not provide a description):\n",
        "#\n",
        "# The following function `my_example` instantiates a GameBoard called b with these constraints.\n",
        "\n",
        "\"\"\")\n"
      ]
    },
    {
      "cell_type": "markdown",
      "source": [
        "This code lets you make a game and see the output for a prompt for that game. There are easy, medium, and hard games."
      ],
      "metadata": {
        "id": "-iecyV7nAbFT"
      }
    },
    {
      "cell_type": "code",
      "source": [
        "# Easy\n",
        "game = Game(boundary=(3, 3), key=(1, 1), flag=(2, 2), init=(0, 0), walls=[])\n",
        "\n",
        "# Medium\n",
        "# game = Game(boundary=(5, 5), key=(3, 1), flag=(4, 4), init=(0, 0), walls=[(1, 1)])\n",
        "\n",
        "# Hard (This is the main one)\n",
        "#game = Game(boundary=(8, 15), key=(3, 1), flag=(7, 13), init=(0, 0), walls=[(2, 2), (1, 1), (5, 3), (1, 11), (5, 5), (6, 6), (6, 10), (2, 6), (4, 12)])\n",
        "\n",
        "# Evil\n",
        "#game = Game(boundary=(8, 15), key=(5, 1), flag=(7, 13), init=(0, 0), walls=[(2, 2), (3, 3), (4, 2), (1, 1), (2, 4), (7, 11), (5, 3), (1, 11), (5, 5), (6, 6), (6, 10), (2, 6), (4, 12)])\n",
        "\n",
        "display(draw_board(game.board.grid))\n",
        "\n",
        "f = io.StringIO()\n",
        "with redirect_stdout(f):\n",
        "    ex = 0\n",
        "    prompt(game)\n",
        "my_prompt = f.getvalue()\n",
        "print(my_prompt)"
      ],
      "metadata": {
        "id": "cOneYFok_OMe",
        "collapsed": true
      },
      "execution_count": null,
      "outputs": []
    },
    {
      "cell_type": "code",
      "execution_count": null,
      "metadata": {
        "id": "LONWUsBLjOHo"
      },
      "outputs": [],
      "source": [
        "# Run an LLM and execute it as it runs.\n",
        "q = {}\n",
        "i = 0\n",
        "for prefix in start(my_prompt):\n",
        "    ps = prefix.split(\"\\n\")\n",
        "    if len(ps) > 3 and not ps[-2].strip().startswith(\"#\") and prefix.endswith(\"\\n\"):\n",
        "        exec(prefix + \"\\n    return b\\nq['board'] = my_example()\")\n",
        "        display(draw_board(q[\"board\"].board.grid, i))\n",
        "        i += 1\n",
        "\n",
        "# Animate the outputs as a GIF\n",
        "def animate(i):\n",
        "    images = []\n",
        "    for i in range(i):\n",
        "        images.append(imageio.v2.imread(f\"pic{i}.png\"))\n",
        "    return imageio.v2.mimsave('movie.gif', images, **{ 'duration': 0.5 })\n",
        "animate(i)\n",
        "display(Image(\"movie.gif\"))\n",
        "\n",
        "\n",
        "# Print the number of tokens used\n",
        "print(\"Input Tokens:\", num_tokens_from_string(my_prompt))\n",
        "print(\"Output Tokens:\", num_tokens_from_string(prefix))"
      ]
    }
  ],
  "metadata": {
    "colab": {
      "provenance": [],
      "include_colab_link": true
    },
    "kernelspec": {
      "display_name": "Python 3",
      "name": "python3"
    },
    "language_info": {
      "name": "python"
    }
  },
  "nbformat": 4,
  "nbformat_minor": 0
}